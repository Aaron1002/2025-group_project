{
 "cells": [
  {
   "cell_type": "code",
   "execution_count": 1,
   "metadata": {},
   "outputs": [],
   "source": [
    "path = {'etag_move' : r\"D:\\data\\eTag 配對路徑動態資訊(v2.0).csv\", \n",
    "        'etag_static' : r\"D:\\data\\eTag 配對路徑靜態資訊(v2.0).csv\"\n",
    "        }"
   ]
  },
  {
   "cell_type": "code",
   "execution_count": 2,
   "metadata": {},
   "outputs": [],
   "source": [
    "import pandas as pd\n",
    "import dask.dataframe as dd"
   ]
  },
  {
   "cell_type": "markdown",
   "metadata": {},
   "source": [
    "## view `eTag 配對路徑動態資訊(v2.0)`"
   ]
  },
  {
   "cell_type": "code",
   "execution_count": 3,
   "metadata": {},
   "outputs": [],
   "source": [
    "# df_etag_move = pd.read_csv(path['etag_move'], encoding='utf-8')\n",
    "df_etag_move = dd.read_csv(path['etag_move'], encoding='utf-8')"
   ]
  },
  {
   "cell_type": "markdown",
   "metadata": {},
   "source": [
    "### 檢視欄位名稱"
   ]
  },
  {
   "cell_type": "code",
   "execution_count": 4,
   "metadata": {},
   "outputs": [
    {
     "data": {
      "text/plain": [
       "Index(['timestamp', 'ETagPairID', 'StartETagStatus', 'EndETagStatus',\n",
       "       'StartTime', 'EndTime', 'DataCollectTime', 'VehicleType', 'TravelTime',\n",
       "       'StandardDeviation', 'SpaceMeanSpeed', 'VehicleCount'],\n",
       "      dtype='object')"
      ]
     },
     "execution_count": 4,
     "metadata": {},
     "output_type": "execute_result"
    }
   ],
   "source": [
    "df_etag_move.columns"
   ]
  },
  {
   "cell_type": "markdown",
   "metadata": {},
   "source": [
    "前5筆資料"
   ]
  },
  {
   "cell_type": "code",
   "execution_count": 5,
   "metadata": {},
   "outputs": [
    {
     "data": {
      "application/vnd.microsoft.datawrangler.viewer.v0+json": {
       "columns": [
        {
         "name": "index",
         "rawType": "int64",
         "type": "integer"
        },
        {
         "name": "timestamp",
         "rawType": "string",
         "type": "string"
        },
        {
         "name": "ETagPairID",
         "rawType": "string",
         "type": "string"
        },
        {
         "name": "StartETagStatus",
         "rawType": "int64",
         "type": "integer"
        },
        {
         "name": "EndETagStatus",
         "rawType": "int64",
         "type": "integer"
        },
        {
         "name": "StartTime",
         "rawType": "string",
         "type": "string"
        },
        {
         "name": "EndTime",
         "rawType": "string",
         "type": "string"
        },
        {
         "name": "DataCollectTime",
         "rawType": "string",
         "type": "string"
        },
        {
         "name": "VehicleType",
         "rawType": "int64",
         "type": "integer"
        },
        {
         "name": "TravelTime",
         "rawType": "int64",
         "type": "integer"
        },
        {
         "name": "StandardDeviation",
         "rawType": "int64",
         "type": "integer"
        },
        {
         "name": "SpaceMeanSpeed",
         "rawType": "int64",
         "type": "integer"
        },
        {
         "name": "VehicleCount",
         "rawType": "int64",
         "type": "integer"
        }
       ],
       "conversionMethod": "pd.DataFrame",
       "ref": "671ddcee-36ba-41f3-9b09-8e67b1f47353",
       "rows": [
        [
         "0",
         "2024-01-01 00:00:00",
         "03F4232S-03F4263S",
         "0",
         "0",
         "2023-12-31T23:30:00+08:00",
         "2023-12-31T23:35:00+08:00",
         "2023-12-31T23:35:00+08:00",
         "31",
         "97",
         "0",
         "113",
         "18"
        ],
        [
         "1",
         "2024-01-01 00:00:00",
         "03F4232S-03F4263S",
         "0",
         "0",
         "2023-12-31T23:30:00+08:00",
         "2023-12-31T23:35:00+08:00",
         "2023-12-31T23:35:00+08:00",
         "32",
         "100",
         "0",
         "111",
         "7"
        ],
        [
         "2",
         "2024-01-01 00:00:00",
         "03F4232S-03F4263S",
         "0",
         "0",
         "2023-12-31T23:30:00+08:00",
         "2023-12-31T23:35:00+08:00",
         "2023-12-31T23:35:00+08:00",
         "41",
         "114",
         "0",
         "97",
         "1"
        ],
        [
         "3",
         "2024-01-01 00:00:00",
         "03F4232S-03F4263S",
         "0",
         "0",
         "2023-12-31T23:30:00+08:00",
         "2023-12-31T23:35:00+08:00",
         "2023-12-31T23:35:00+08:00",
         "42",
         "0",
         "0",
         "0",
         "0"
        ],
        [
         "4",
         "2024-01-01 00:00:00",
         "03F4232S-03F4263S",
         "0",
         "0",
         "2023-12-31T23:30:00+08:00",
         "2023-12-31T23:35:00+08:00",
         "2023-12-31T23:35:00+08:00",
         "5",
         "0",
         "0",
         "0",
         "0"
        ]
       ],
       "shape": {
        "columns": 12,
        "rows": 5
       }
      },
      "text/html": [
       "<div>\n",
       "<style scoped>\n",
       "    .dataframe tbody tr th:only-of-type {\n",
       "        vertical-align: middle;\n",
       "    }\n",
       "\n",
       "    .dataframe tbody tr th {\n",
       "        vertical-align: top;\n",
       "    }\n",
       "\n",
       "    .dataframe thead th {\n",
       "        text-align: right;\n",
       "    }\n",
       "</style>\n",
       "<table border=\"1\" class=\"dataframe\">\n",
       "  <thead>\n",
       "    <tr style=\"text-align: right;\">\n",
       "      <th></th>\n",
       "      <th>timestamp</th>\n",
       "      <th>ETagPairID</th>\n",
       "      <th>StartETagStatus</th>\n",
       "      <th>EndETagStatus</th>\n",
       "      <th>StartTime</th>\n",
       "      <th>EndTime</th>\n",
       "      <th>DataCollectTime</th>\n",
       "      <th>VehicleType</th>\n",
       "      <th>TravelTime</th>\n",
       "      <th>StandardDeviation</th>\n",
       "      <th>SpaceMeanSpeed</th>\n",
       "      <th>VehicleCount</th>\n",
       "    </tr>\n",
       "  </thead>\n",
       "  <tbody>\n",
       "    <tr>\n",
       "      <th>0</th>\n",
       "      <td>2024-01-01 00:00:00</td>\n",
       "      <td>03F4232S-03F4263S</td>\n",
       "      <td>0</td>\n",
       "      <td>0</td>\n",
       "      <td>2023-12-31T23:30:00+08:00</td>\n",
       "      <td>2023-12-31T23:35:00+08:00</td>\n",
       "      <td>2023-12-31T23:35:00+08:00</td>\n",
       "      <td>31</td>\n",
       "      <td>97</td>\n",
       "      <td>0</td>\n",
       "      <td>113</td>\n",
       "      <td>18</td>\n",
       "    </tr>\n",
       "    <tr>\n",
       "      <th>1</th>\n",
       "      <td>2024-01-01 00:00:00</td>\n",
       "      <td>03F4232S-03F4263S</td>\n",
       "      <td>0</td>\n",
       "      <td>0</td>\n",
       "      <td>2023-12-31T23:30:00+08:00</td>\n",
       "      <td>2023-12-31T23:35:00+08:00</td>\n",
       "      <td>2023-12-31T23:35:00+08:00</td>\n",
       "      <td>32</td>\n",
       "      <td>100</td>\n",
       "      <td>0</td>\n",
       "      <td>111</td>\n",
       "      <td>7</td>\n",
       "    </tr>\n",
       "    <tr>\n",
       "      <th>2</th>\n",
       "      <td>2024-01-01 00:00:00</td>\n",
       "      <td>03F4232S-03F4263S</td>\n",
       "      <td>0</td>\n",
       "      <td>0</td>\n",
       "      <td>2023-12-31T23:30:00+08:00</td>\n",
       "      <td>2023-12-31T23:35:00+08:00</td>\n",
       "      <td>2023-12-31T23:35:00+08:00</td>\n",
       "      <td>41</td>\n",
       "      <td>114</td>\n",
       "      <td>0</td>\n",
       "      <td>97</td>\n",
       "      <td>1</td>\n",
       "    </tr>\n",
       "    <tr>\n",
       "      <th>3</th>\n",
       "      <td>2024-01-01 00:00:00</td>\n",
       "      <td>03F4232S-03F4263S</td>\n",
       "      <td>0</td>\n",
       "      <td>0</td>\n",
       "      <td>2023-12-31T23:30:00+08:00</td>\n",
       "      <td>2023-12-31T23:35:00+08:00</td>\n",
       "      <td>2023-12-31T23:35:00+08:00</td>\n",
       "      <td>42</td>\n",
       "      <td>0</td>\n",
       "      <td>0</td>\n",
       "      <td>0</td>\n",
       "      <td>0</td>\n",
       "    </tr>\n",
       "    <tr>\n",
       "      <th>4</th>\n",
       "      <td>2024-01-01 00:00:00</td>\n",
       "      <td>03F4232S-03F4263S</td>\n",
       "      <td>0</td>\n",
       "      <td>0</td>\n",
       "      <td>2023-12-31T23:30:00+08:00</td>\n",
       "      <td>2023-12-31T23:35:00+08:00</td>\n",
       "      <td>2023-12-31T23:35:00+08:00</td>\n",
       "      <td>5</td>\n",
       "      <td>0</td>\n",
       "      <td>0</td>\n",
       "      <td>0</td>\n",
       "      <td>0</td>\n",
       "    </tr>\n",
       "  </tbody>\n",
       "</table>\n",
       "</div>"
      ],
      "text/plain": [
       "             timestamp         ETagPairID  StartETagStatus  EndETagStatus  \\\n",
       "0  2024-01-01 00:00:00  03F4232S-03F4263S                0              0   \n",
       "1  2024-01-01 00:00:00  03F4232S-03F4263S                0              0   \n",
       "2  2024-01-01 00:00:00  03F4232S-03F4263S                0              0   \n",
       "3  2024-01-01 00:00:00  03F4232S-03F4263S                0              0   \n",
       "4  2024-01-01 00:00:00  03F4232S-03F4263S                0              0   \n",
       "\n",
       "                   StartTime                    EndTime  \\\n",
       "0  2023-12-31T23:30:00+08:00  2023-12-31T23:35:00+08:00   \n",
       "1  2023-12-31T23:30:00+08:00  2023-12-31T23:35:00+08:00   \n",
       "2  2023-12-31T23:30:00+08:00  2023-12-31T23:35:00+08:00   \n",
       "3  2023-12-31T23:30:00+08:00  2023-12-31T23:35:00+08:00   \n",
       "4  2023-12-31T23:30:00+08:00  2023-12-31T23:35:00+08:00   \n",
       "\n",
       "             DataCollectTime  VehicleType  TravelTime  StandardDeviation  \\\n",
       "0  2023-12-31T23:35:00+08:00           31          97                  0   \n",
       "1  2023-12-31T23:35:00+08:00           32         100                  0   \n",
       "2  2023-12-31T23:35:00+08:00           41         114                  0   \n",
       "3  2023-12-31T23:35:00+08:00           42           0                  0   \n",
       "4  2023-12-31T23:35:00+08:00            5           0                  0   \n",
       "\n",
       "   SpaceMeanSpeed  VehicleCount  \n",
       "0             113            18  \n",
       "1             111             7  \n",
       "2              97             1  \n",
       "3               0             0  \n",
       "4               0             0  "
      ]
     },
     "execution_count": 5,
     "metadata": {},
     "output_type": "execute_result"
    }
   ],
   "source": [
    "df_etag_move.head()"
   ]
  },
  {
   "cell_type": "markdown",
   "metadata": {},
   "source": [
    "資料比數(有多少row)"
   ]
  },
  {
   "cell_type": "code",
   "execution_count": 9,
   "metadata": {},
   "outputs": [
    {
     "name": "stdout",
     "output_type": "stream",
     "text": [
      "[########################################] | 100% Completed | 362.67 s\n"
     ]
    },
    {
     "data": {
      "text/plain": [
       "181381535"
      ]
     },
     "execution_count": 9,
     "metadata": {},
     "output_type": "execute_result"
    }
   ],
   "source": [
    "df_etag_move.shape[0].compute(progress=True)"
   ]
  },
  {
   "cell_type": "markdown",
   "metadata": {},
   "source": [
    "缺失值"
   ]
  },
  {
   "cell_type": "code",
   "execution_count": 6,
   "metadata": {},
   "outputs": [
    {
     "name": "stdout",
     "output_type": "stream",
     "text": [
      "[########################################] | 100% Completed | 541.75 s\n"
     ]
    },
    {
     "data": {
      "text/plain": [
       "timestamp            0\n",
       "ETagPairID           0\n",
       "StartETagStatus      0\n",
       "EndETagStatus        0\n",
       "StartTime            0\n",
       "EndTime              0\n",
       "DataCollectTime      0\n",
       "VehicleType          0\n",
       "TravelTime           0\n",
       "StandardDeviation    0\n",
       "SpaceMeanSpeed       0\n",
       "VehicleCount         0\n",
       "dtype: int64"
      ]
     },
     "execution_count": 6,
     "metadata": {},
     "output_type": "execute_result"
    }
   ],
   "source": [
    "from dask.diagnostics import ProgressBar\n",
    "\n",
    "pbar = ProgressBar()\n",
    "pbar.register()  # 註冊進度條\n",
    "df_etag_move.isna().sum().compute(progress=True)"
   ]
  },
  {
   "cell_type": "markdown",
   "metadata": {},
   "source": [
    "車種代碼"
   ]
  },
  {
   "cell_type": "code",
   "execution_count": 8,
   "metadata": {},
   "outputs": [
    {
     "name": "stdout",
     "output_type": "stream",
     "text": [
      "[########################################] | 100% Completed | 348.23 s\n"
     ]
    },
    {
     "data": {
      "text/plain": [
       "VehicleType\n",
       "41    36276307\n",
       "31    36276307\n",
       "32    36276307\n",
       "42    36276307\n",
       "5     36276307\n",
       "Name: count, dtype: int64"
      ]
     },
     "execution_count": 8,
     "metadata": {},
     "output_type": "execute_result"
    }
   ],
   "source": [
    "df_etag_move['VehicleType'].value_counts().compute(progress=True)"
   ]
  },
  {
   "cell_type": "markdown",
   "metadata": {},
   "source": [
    "## view `eTag 配對路徑靜態資訊(v2.0)`"
   ]
  },
  {
   "cell_type": "code",
   "execution_count": null,
   "metadata": {},
   "outputs": [],
   "source": [
    "\n",
    "df_etag_static = pd.read_csv(path['etag_static'], encoding='utf-8')"
   ]
  }
 ],
 "metadata": {
  "kernelspec": {
   "display_name": "Python 3",
   "language": "python",
   "name": "python3"
  },
  "language_info": {
   "codemirror_mode": {
    "name": "ipython",
    "version": 3
   },
   "file_extension": ".py",
   "mimetype": "text/x-python",
   "name": "python",
   "nbconvert_exporter": "python",
   "pygments_lexer": "ipython3",
   "version": "3.12.4"
  }
 },
 "nbformat": 4,
 "nbformat_minor": 2
}
